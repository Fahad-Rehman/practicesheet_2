{
 "cells": [
  {
   "cell_type": "markdown",
   "metadata": {},
   "source": [
    "# Python User Define Function Practice Activity - 2 "
   ]
  },
  {
   "cell_type": "markdown",
   "metadata": {},
   "source": [
    "Asst. Prof. Syed Faisal Ali              $\\;\\;\\;\\;\\;\\;$              Programming Fundamentals - FALL 2019 $\\;\\;\\;\\;\\;\\;$ Software Engineering                     $\\;\\;\\;\\;\\;\\;$                   Dated: 27 Nov 2019"
   ]
  },
  {
   "cell_type": "markdown",
   "metadata": {},
   "source": [
    "Question 1: Create a function to find the following:\n",
    "If the base of triangle is 3 cm long and its equilateral triangle and the radius of circle is 1.5 cm then find the area of triangle shaded. \n"
   ]
  },
  {
   "cell_type": "markdown",
   "metadata": {},
   "source": [
    "![proj](q1.jpg)"
   ]
  },
  {
   "cell_type": "code",
   "execution_count": 316,
   "metadata": {},
   "outputs": [
    {
     "name": "stdout",
     "output_type": "stream",
     "text": [
      "The shaded area of triangle is: 19.93cm²\n"
     ]
    }
   ],
   "source": [
    "from math import pi\n",
    "def shadedTriangle(base, height, radius):\n",
    "    area_circle = pi*(radius**2)\n",
    "    area_triangle = (base*height)/2\n",
    "    shaded_area = 6*area_triangle - area_circle\n",
    "    decimals = 2\n",
    "    print('The shaded area of triangle is: {0:.{1}f}cm\\u00b2'.format(shaded_area, decimals))\n",
    "shadedTriangle(3, 3, 1.5)\n",
    "#Took me 8minutes approx"
   ]
  },
  {
   "cell_type": "markdown",
   "metadata": {},
   "source": [
    "Question 2: Create a function which can read a dictionary of your family members such as 5 members. \n",
    "1 Abbu, 1 Ammi, 2 Brothers 1 Sister. Now feed this data in dictionary in terms of name and relations.\n",
    "The UDF will ask findrelation() in this you will enter Brother it will return the names of two brothers you have inserted. In case if the relation is not found it will return “Sorry the relation doesn’t exist in your family.” \n"
   ]
  },
  {
   "cell_type": "code",
   "execution_count": 334,
   "metadata": {},
   "outputs": [
    {
     "name": "stdout",
     "output_type": "stream",
     "text": [
      "Enter Relation: Brother\n",
      "Abdullah Hammad\n"
     ]
    }
   ],
   "source": [
    "def family():\n",
    "    Dict = {'Father':'Abdul Rehman',\n",
    "           'Mother':'Maria',\n",
    "           'Brother':'Abdullah Hammad',\n",
    "           'Sister':'Sabiha'}\n",
    "    findrelation = input('Enter Relation: ')\n",
    "    \n",
    "    if findrelation in Dict:\n",
    "        print(Dict[findrelation])\n",
    "    else:\n",
    "        print('Sorry the relation doesnt exist in your family')\n",
    "        \n",
    "family()\n",
    "#19 minutes approx."
   ]
  },
  {
   "cell_type": "markdown",
   "metadata": {},
   "source": [
    "Question 3: Create a function to find the following:\n",
    "If the base of triangle is 5 cm long and its equilateral triangle and the radius of circle is 2.25 cm then find the area of triangle shaded. \n"
   ]
  },
  {
   "cell_type": "markdown",
   "metadata": {},
   "source": [
    "![proj](q3.jpg)"
   ]
  },
  {
   "cell_type": "code",
   "execution_count": 319,
   "metadata": {},
   "outputs": [
    {
     "name": "stdout",
     "output_type": "stream",
     "text": [
      "The shaded area of triangle is: 15.90cm²\n"
     ]
    }
   ],
   "source": [
    "def ShadedTriangle(base, height, radius):\n",
    "    area_circle = pi*(radius**2)\n",
    "    decimals = 2\n",
    "    print('The shaded area of triangle is: {0:.{1}f}cm\\u00b2'.format(area_circle, decimals))\n",
    "ShadedTriangle(5, 5, 2.25)\n",
    "#4 minutes approx."
   ]
  },
  {
   "cell_type": "markdown",
   "metadata": {},
   "source": [
    "Question 4:\n",
    "Create a function that takes a list of random numbers from users and add only those which are even. If all the numbers are odd it will return sorry no even number found.\n"
   ]
  },
  {
   "cell_type": "code",
   "execution_count": 341,
   "metadata": {},
   "outputs": [
    {
     "name": "stdout",
     "output_type": "stream",
     "text": [
      "The Sum of even numbers is: 30\n"
     ]
    }
   ],
   "source": [
    "def addition(start, end):\n",
    "    total = 0\n",
    "\n",
    "    for i in range(start, end):\n",
    "        if i%2 == 0:\n",
    "            total = total + i\n",
    "    print('The Sum of even numbers is:', total)\n",
    "    if i%2 != 0:\n",
    "        print('Sorry no even number found')\n",
    "addition(1, 11)\n",
    "#8 minutes approx"
   ]
  },
  {
   "cell_type": "markdown",
   "metadata": {},
   "source": [
    "Question 5:\n",
    "Write a function which can take a list of numbers and it will return sorted list.\n"
   ]
  },
  {
   "cell_type": "code",
   "execution_count": 55,
   "metadata": {},
   "outputs": [
    {
     "data": {
      "text/plain": [
       "[-23, 1, 5, 8, 21, 48, 55, 59, 74, 92, 112, 185, 752]"
      ]
     },
     "execution_count": 55,
     "metadata": {},
     "output_type": "execute_result"
    }
   ],
   "source": [
    "def LIST():\n",
    "    lst = [8, 92, 74, 185, 752, 1, -23, 48, 55, 59, 21, 5, 112]\n",
    "    lst.sort()\n",
    "    return lst\n",
    "LIST()\n",
    "#3minutes approx."
   ]
  },
  {
   "cell_type": "markdown",
   "metadata": {},
   "source": [
    "Question 6:\n",
    "Write a function that will take the radius and return the perimeter and area of circle with 5% increment.\n"
   ]
  },
  {
   "cell_type": "code",
   "execution_count": 221,
   "metadata": {},
   "outputs": [
    {
     "name": "stdout",
     "output_type": "stream",
     "text": [
      "The Area of the circle with 5% increment is: 156.15m²\n",
      "The Perimeter of the circle with 5% increment is: 44.30m\n"
     ]
    }
   ],
   "source": [
    "from math import pi\n",
    "def Circle(radius):\n",
    "    increment_radius = radius + (5/100)\n",
    "    Area = pi*(increment_radius**2)\n",
    "    Perimeter = 2*pi*increment_radius\n",
    "    decimals = 2\n",
    "    print('The Area of the circle with 5% increment is: {0:.{1}f}m\\u00b2'.format(Area, decimals))\n",
    "    print('The Perimeter of the circle with 5% increment is: {0:.{1}f}m'.format(Perimeter, decimals))\n",
    "Circle(7)\n",
    "#8minutes approx."
   ]
  },
  {
   "cell_type": "markdown",
   "metadata": {},
   "source": [
    "Question 7:\n",
    "Write a function that will take the strings as argument and return number of vowels and consonants.\n"
   ]
  },
  {
   "cell_type": "code",
   "execution_count": 226,
   "metadata": {},
   "outputs": [
    {
     "name": "stdout",
     "output_type": "stream",
     "text": [
      "The Vowels in the string are: 11\n",
      "The consonants in the string are: 13\n"
     ]
    }
   ],
   "source": [
    "def sorter(sort):\n",
    "    vowels = 0\n",
    "    consonants = 0\n",
    "    for i in sort:\n",
    "        if i in 'aeiouAEIOU':\n",
    "            vowels= vowels + 1\n",
    "        elif i in 'bcdfghjklmnpqrstvwxyzBCDFGHJKLMNPQRSTVWXYZ':\n",
    "            consonants = consonants + 1\n",
    "    print(\"The Vowels in the string are:\",vowels)\n",
    "    print('The consonants in the string are:',consonants)\n",
    "sorter('I Have A Dream To Buy Mercedes')\n",
    "#7minutes approx."
   ]
  },
  {
   "cell_type": "markdown",
   "metadata": {},
   "source": [
    "Question 8:\n",
    "Write a function that will take length and breadth for a rectangle and return perimeter and area of rectangle with 8% increment.\n"
   ]
  },
  {
   "cell_type": "code",
   "execution_count": 224,
   "metadata": {},
   "outputs": [
    {
     "name": "stdout",
     "output_type": "stream",
     "text": [
      "The Area of rectangle with 8% increment is: 66.45m²\n",
      "The Perimeter of rectangle with 8% increment is: 36.32m\n"
     ]
    }
   ],
   "source": [
    "from math import pi\n",
    "def rectangle(length, breadth):\n",
    "    increment_length = length + (8/100)\n",
    "    increment_breadth = breadth + (8/100)\n",
    "    Area = increment_length*increment_breadth\n",
    "    Perimeter = 2*(increment_length + increment_breadth)\n",
    "    decimals = 2\n",
    "    print('The Area of rectangle with 8% increment is: {0:.{1}f}m\\u00b2'.format(Area, decimals))\n",
    "    print('The Perimeter of rectangle with 8% increment is: {0:.{1}f}m'.format(Perimeter, decimals))\n",
    "rectangle(13, 5)\n",
    "#8minutes approx."
   ]
  },
  {
   "cell_type": "markdown",
   "metadata": {},
   "source": [
    "Question 9:\n",
    "Write a function that can take the numbers in strings. From string find which number is even and which one is odd. Save them in two different lists and generate the result.\n"
   ]
  },
  {
   "cell_type": "code",
   "execution_count": 167,
   "metadata": {},
   "outputs": [
    {
     "name": "stdout",
     "output_type": "stream",
     "text": [
      "The number in even are: ['4', '80', '34', '98'] \n",
      "The number in odd are: ['77', '5', '21', '1'] "
     ]
    }
   ],
   "source": [
    "def Number():\n",
    "    numbers = ['4', '80', '77', '5', '21', '34', '98', '1']\n",
    "    even = []\n",
    "    odd = []\n",
    "    for i in numbers:\n",
    "        if int(i) % 2 == 0:\n",
    "            even.append(i)\n",
    "        else:\n",
    "            odd.append(i)\n",
    "    print('The number in even are:', even, end=' ')\n",
    "    print()\n",
    "    print('The number in odd are:', odd, end=' ')\n",
    "Number()\n",
    "#18minutes approx."
   ]
  },
  {
   "cell_type": "markdown",
   "metadata": {},
   "source": [
    "Question 10:\n",
    "Write a function which will take the string from the user and return how many alphabets have been used in it and which alphabets are missing.\n"
   ]
  },
  {
   "cell_type": "code",
   "execution_count": 298,
   "metadata": {},
   "outputs": [
    {
     "name": "stdout",
     "output_type": "stream",
     "text": [
      "The Alphabets used are: ['h', 'e', 'l', 'l', 'o']\n",
      "\n",
      "The Missing Alphabets are: ['A', 'B', 'C', 'D', 'E', 'F', 'G', 'H', 'I', 'J', 'K', 'L', 'M', 'N', 'O', 'P', 'Q', 'R', 'S', 'T', 'U', 'V', 'W', 'X', 'Y', 'Z', 'a', 'b', 'c', 'd', 'f', 'g', 'i', 'j', 'k', 'm', 'n', 'p', 'q', 'r', 's', 't', 'u', 'v', 'w', 'x', 'y', 'z']\n"
     ]
    }
   ],
   "source": [
    "def alphabet(string):\n",
    "    alphabets = ['a','b','c','d','e','f','g','h','i','j','k','l','m','n','o','p','q','r','s','t','u','v','w','x','y','z','A','B','C','D','E','F','G','H','I','J','K','L','M','N','O','P','Q','R','S','T','U','V','W','X','Y','Z']\n",
    "    used_alphabets = []\n",
    "    for i in string:\n",
    "        if i in alphabets:\n",
    "            used_alphabets = used_alphabets + list(i)\n",
    "    missing_alphabets = list(set(alphabets)-set(used_alphabets))\n",
    "    missing_alphabets.sort()\n",
    "    print('The Alphabets used are:',used_alphabets)\n",
    "    print()\n",
    "    print(\"The Missing Alphabets are:\", missing_alphabets)\n",
    "\n",
    "alphabet('hello')\n",
    "#12minutes approx."
   ]
  },
  {
   "cell_type": "markdown",
   "metadata": {},
   "source": [
    "Question 11:\n",
    "Write a function that will take verbs in words and return a list of verbs with continuous tense by adding (ing) at the end of each verb.\n"
   ]
  },
  {
   "cell_type": "code",
   "execution_count": 212,
   "metadata": {},
   "outputs": [
    {
     "name": "stdout",
     "output_type": "stream",
     "text": [
      "The new words are: ['Playing', 'Accepting', 'Going', 'Blowing', 'Carrying', 'Hanging', 'Jumping', 'Kicking', 'Waiting']"
     ]
    }
   ],
   "source": [
    "def verbs():\n",
    "    words = ['Play','Accept','Go','Blow','Carry','Hang','Jump','Kick','Wait']\n",
    "    to_add = 'ing'\n",
    "    new_words = [x + to_add for x in words]\n",
    "    print('The new words are:', new_words, end='')\n",
    "verbs()\n",
    "#20 minutes approx."
   ]
  },
  {
   "cell_type": "markdown",
   "metadata": {},
   "source": [
    "Question 12:\n",
    "Make a function which can take two radius of circles and find the areas of it and subtract smaller one from larger one and tell the remaining area of circle.\n"
   ]
  },
  {
   "cell_type": "code",
   "execution_count": 237,
   "metadata": {},
   "outputs": [
    {
     "name": "stdout",
     "output_type": "stream",
     "text": [
      "The remaining area of circle is: 103.67m²\n"
     ]
    }
   ],
   "source": [
    "from math import pi\n",
    "def Area(rad1, rad2):\n",
    "    Area1 = pi*(rad1**2)\n",
    "    Area2 = pi*(rad2**2)\n",
    "    if Area1 > Area2:\n",
    "        Total_area = Area1-Area2\n",
    "    else:\n",
    "        Total_area = Area2-Area1\n",
    "    decimals = 2\n",
    "    print('The remaining area of circle is: {0:.{1}f}m\\u00b2'.format(Total_area, decimals))\n",
    "Area(4, 7)\n",
    "#6minutes approx."
   ]
  },
  {
   "cell_type": "markdown",
   "metadata": {},
   "source": [
    "Question 13:\n",
    "Write a function that will take a string and calculate number of Upper case letters and lower case letters.\n"
   ]
  },
  {
   "cell_type": "code",
   "execution_count": 233,
   "metadata": {},
   "outputs": [
    {
     "name": "stdout",
     "output_type": "stream",
     "text": [
      "Total Upper case letters are:  17\n",
      "Total lower case letters are:  62\n"
     ]
    }
   ],
   "source": [
    "def Counter(string):\n",
    "    upper = 0\n",
    "    lower = 0\n",
    "    for i in string:\n",
    "        if i >='A' and i <= 'Z':\n",
    "            upper += 1\n",
    "        elif i >= 'a' and i <= 'z':\n",
    "            lower += 1\n",
    "    print(\"Total Upper case letters are: \",upper)\n",
    "    print(\"Total lower case letters are: \",lower)\n",
    "Counter('Hello Everyone My Name Is Fahad Abdul Rehman And I Am Studying At Usman Institute Of Technology')\n",
    "#8minutes approx."
   ]
  },
  {
   "cell_type": "markdown",
   "metadata": {},
   "source": [
    "Question 14:\n",
    "Write a function which will take length and breadth of two rectangles. Subtract the smaller rectangle from the larger rectangle and return the area left behind.\n"
   ]
  },
  {
   "cell_type": "code",
   "execution_count": 236,
   "metadata": {},
   "outputs": [
    {
     "name": "stdout",
     "output_type": "stream",
     "text": [
      "The remaining area of rectangle is: -16.00m²\n"
     ]
    }
   ],
   "source": [
    "from math import pi\n",
    "def AREA(len1, len2, bre1, bre2):\n",
    "    Area1 = len1*bre1\n",
    "    Area2 = len2*bre2\n",
    "    if Area1 < Area2:\n",
    "        Total_area = Area1-Area2\n",
    "    else:\n",
    "        Total_area = Area2-Area1\n",
    "    decimals = 2\n",
    "    print('The remaining area of rectangle is: {0:.{1}f}m\\u00b2'.format(Total_area, decimals))\n",
    "AREA(14, 9, 5, 6)\n",
    "#9minutes approx."
   ]
  },
  {
   "cell_type": "markdown",
   "metadata": {},
   "source": [
    "Question 15:\n",
    "Create a function that can add the fractions in series such as 1 to 8 = 1/8+1/7+1/6+1/5 …… ½ and return the result in fraction not in decimal.\n"
   ]
  },
  {
   "cell_type": "code",
   "execution_count": 241,
   "metadata": {},
   "outputs": [
    {
     "name": "stdout",
     "output_type": "stream",
     "text": [
      "The sum of the series is: 481/280\n"
     ]
    }
   ],
   "source": [
    "from fractions import Fraction\n",
    "def fraction():\n",
    "    series = Fraction(1,8)+Fraction(1,7)+Fraction(1,6)+Fraction(1,5)+Fraction(1,4)+Fraction(1,3)+Fraction(1,2)\n",
    "    print('The sum of the series is:',series)\n",
    "fraction()\n",
    "#3minutes approx."
   ]
  },
  {
   "cell_type": "markdown",
   "metadata": {},
   "source": [
    "Question 16:\n",
    "Write a function which will take height and base for a triangle and \n"
   ]
  },
  {
   "cell_type": "code",
   "execution_count": null,
   "metadata": {},
   "outputs": [],
   "source": []
  },
  {
   "cell_type": "markdown",
   "metadata": {},
   "source": [
    "Question 17:\n",
    "Write a function which will take a list of fruits names. The function will return how many alphabets are repetitive in the names of fruits and how many are unique letters.\n"
   ]
  },
  {
   "cell_type": "code",
   "execution_count": 314,
   "metadata": {},
   "outputs": [
    {
     "name": "stdout",
     "output_type": "stream",
     "text": [
      "The unique alphabets are: ['l', 'b', 'r', 'm', 'o']\n",
      "The repetitive alphabets are: ['a', 'p', 'e', 'n', 'g']\n"
     ]
    }
   ],
   "source": [
    "def count_letters():\n",
    "    fruits = ['apple', 'banana','grape','mango']\n",
    "    counted = {}\n",
    "    for i in fruits:\n",
    "        for j in i:\n",
    "            if j in counted:\n",
    "                counted[j] += 1\n",
    "            else:\n",
    "                counted[j] = 1\n",
    "    print('The unique alphabets are:',[j for j in counted if counted[j] == 1])\n",
    "    print('The repetitive alphabets are:',[j for j in counted if counted[j] > 1])\n",
    "\n",
    "count_letters()\n",
    "#20minutes approx."
   ]
  },
  {
   "cell_type": "markdown",
   "metadata": {},
   "source": [
    "Question 18:\n",
    "Write a function that can take square length and radius of circle. Find the area of both and subtract the smallest shape from largest one and return the remaining shape area.\n"
   ]
  },
  {
   "cell_type": "code",
   "execution_count": 297,
   "metadata": {},
   "outputs": [
    {
     "name": "stdout",
     "output_type": "stream",
     "text": [
      "The remaining shape area is: 38.87m²\n"
     ]
    }
   ],
   "source": [
    "from math import pi\n",
    "def sqArea(sq_length, radius):\n",
    "    area_circle = 2*pi*radius\n",
    "    area_sqlength = sq_length**2\n",
    "    decimals = 2\n",
    "    if area_circle < area_sqlength:\n",
    "        total_area = area_sqlength-area_circle\n",
    "    else:\n",
    "        total_area = area_circle-area_sqlength\n",
    "    print('The remaining shape area is: {0:.{1}f}m\\u00b2'.format(total_area, decimals))\n",
    "sqArea(8, 4)\n",
    "#13minutes approx."
   ]
  }
 ],
 "metadata": {
  "kernelspec": {
   "display_name": "Python 3",
   "language": "python",
   "name": "python3"
  },
  "language_info": {
   "codemirror_mode": {
    "name": "ipython",
    "version": 3
   },
   "file_extension": ".py",
   "mimetype": "text/x-python",
   "name": "python",
   "nbconvert_exporter": "python",
   "pygments_lexer": "ipython3",
   "version": "3.7.3"
  }
 },
 "nbformat": 4,
 "nbformat_minor": 2
}
